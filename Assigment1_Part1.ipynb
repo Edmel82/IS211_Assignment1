{
 "cells": [
  {
   "cell_type": "code",
   "execution_count": null,
   "metadata": {},
   "outputs": [],
   "source": [
    "#Edwards Meliton\n",
    "\"\"\" Assignment1-Part2-IS211\"\"\"\n",
    "\n",
    "def listDivide(number = [], divide = 2):\n",
    "    \"\"\"This is a function that returns the number of integers\n",
    "    that are divisible by the chosen number\"\"\"\n",
    "    \n",
    "    newNumber = [x % divide for x in number]\n",
    "    answer = newNumber.count(0)\n",
    "    return answer\n",
    "\n",
    "class ListDivideException(Exception):\n",
    "    \"\"\"This is a custom exceptions class.\"\"\"\n",
    "    def __init__(self, msg):\n",
    "        self.msg = msg\n",
    "    \n",
    "def testListDivide():\n",
    "    \"\"\"Test for listDivide function.\"\"\"\n",
    "    \n",
    "    result = listDivide([1,2,3,4,5])\n",
    "    if result != 2:\n",
    "        raise ListDivideException(\"Failed\")\n",
    "    result = listDivide([2,4,6,8,10])\n",
    "    if result != 5:\n",
    "        raise ListDivideException(\"Failed\")\n",
    "    result = listDivide([30,54,63,98,100], divide=10)\n",
    "    if result != 2:\n",
    "        raise ListDivideException(\"Failed\")\n",
    "    result = listDivide([])\n",
    "    if result != 0:\n",
    "        raise ListDivideException(\"Failed\")\n",
    "    result = listDivide([1,2,3,4,5],1)\n",
    "    if result != 5:\n",
    "        raise ListDivideException(\"Failed\")\n",
    "\n",
    "testListDivide()\n",
    "\n"
   ]
  }
 ],
 "metadata": {
  "kernelspec": {
   "display_name": "Python 3",
   "language": "python",
   "name": "python3"
  },
  "language_info": {
   "codemirror_mode": {
    "name": "ipython",
    "version": 3
   },
   "file_extension": ".py",
   "mimetype": "text/x-python",
   "name": "python",
   "nbconvert_exporter": "python",
   "pygments_lexer": "ipython3",
   "version": "3.8.5"
  }
 },
 "nbformat": 4,
 "nbformat_minor": 4
}
